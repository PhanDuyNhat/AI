{
  "nbformat": 4,
  "nbformat_minor": 0,
  "metadata": {
    "colab": {
      "provenance": [],
      "mount_file_id": "1rTUCHtkAC01qCOKbvkrN_XMYf5eERNp8",
      "authorship_tag": "ABX9TyPwBNHoqLwE6y0kXAn9K8cB",
      "include_colab_link": true
    },
    "kernelspec": {
      "name": "python3",
      "display_name": "Python 3"
    },
    "language_info": {
      "name": "python"
    }
  },
  "cells": [
    {
      "cell_type": "markdown",
      "metadata": {
        "id": "view-in-github",
        "colab_type": "text"
      },
      "source": [
        "<a href=\"https://colab.research.google.com/github/PhanDuyNhat/AI_UTE/blob/Code_AI/AI_week3.ipynb\" target=\"_parent\"><img src=\"https://colab.research.google.com/assets/colab-badge.svg\" alt=\"Open In Colab\"/></a>"
      ]
    },
    {
      "cell_type": "code",
      "source": [
        "import pandas as pd \n",
        "\n",
        "\n",
        "url = 'http://winterolympicsmedals.com/medals.csv'\n",
        "data = pd.read_csv (url)\n",
        "data1 = data.loc[data.NOC == 'AUS']\n",
        "print(data1)"
      ],
      "metadata": {
        "colab": {
          "base_uri": "https://localhost:8080/"
        },
        "id": "wTahCABSXtrg",
        "outputId": "eb2c5b31-7c8a-40b4-d01d-e52c13dad197"
      },
      "execution_count": null,
      "outputs": [
        {
          "output_type": "stream",
          "name": "stdout",
          "text": [
            "      Year            City    Sport      Discipline  NOC        Event  \\\n",
            "1437  1994     Lillehammer  Skating  Short Track S.  AUS  5000m relay   \n",
            "1620  1998          Nagano   Skiing   Alpine Skiing  AUS       slalom   \n",
            "1825  2002  Salt Lake City  Skating  Short Track S.  AUS        1000m   \n",
            "1826  2002  Salt Lake City   Skiing  Freestyle Ski.  AUS      aerials   \n",
            "2059  2006           Turin   Skiing  Freestyle Ski.  AUS      aerials   \n",
            "2060  2006           Turin   Skiing  Freestyle Ski.  AUS       moguls   \n",
            "\n",
            "     Event gender   Medal  \n",
            "1437            M  Bronze  \n",
            "1620            W  Bronze  \n",
            "1825            M    Gold  \n",
            "1826            W    Gold  \n",
            "2059            W  Bronze  \n",
            "2060            M    Gold  \n"
          ]
        }
      ]
    },
    {
      "cell_type": "code",
      "source": [
        "\n",
        "import pandas as pd \n",
        "\n",
        "\n",
        "url = 'http://winterolympicsmedals.com/medals.csv'\n",
        "data = pd.read_csv (url)\n",
        "data1 = data.loc[data.NOC == 'AUS']\n",
        "\n",
        "cacbomon = data1['Sport'].unique()\n",
        "cacnam = data1['Year'].unique()\n",
        "data21 = data1.loc[data1.Sport == 'Skating']\n",
        "\n",
        "data3=data1[(data1['NOC']=='AUS') &(data1['Medal'] == 'Bronze')].count()\n",
        "data4=data1[(data1['NOC']=='AUS') &(data1['Medal'] == 'Silver')].count()\n",
        "data5=data1[(data1['NOC']=='AUS') &(data1['Medal'] == 'Gold')].count()\n",
        "\n",
        "data21 = data1.loc[data1.Sport == 'Skating']\n",
        "data22 = data1.loc[data1.Sport == 'Skiing']\n",
        "\n",
        "dem11 = data21[(data21['NOC']=='AUS') &(data21['Medal'] == 'Bronze')].count()\n",
        "dem12 = data21[(data21['NOC']=='AUS') &(data21['Medal'] == 'Silver')].count()\n",
        "dem13 = data21[(data21['NOC']=='AUS') &(data21['Medal'] == 'Gold')].count()\n",
        "\n",
        "dem21 = data22[(data22['NOC']=='AUS') &(data22['Medal'] == 'Bronze')].count()\n",
        "dem22 = data22[(data22['NOC']=='AUS') &(data22['Medal'] == 'Silver')].count()\n",
        "dem23 = data22[(data22['NOC']=='AUS') &(data22['Medal'] == 'Gold')].count()\n",
        "\n",
        "\n",
        "print('\\nThống kê nước Úc trong các kỳ Olympic mùa Đông ')\n",
        "print('Các năm tham dự :',cacnam)\n",
        "print('Các bộ môn tham gia:',cacbomon)\n",
        "print('Số HC Đồng ÚC nhận giành được Olympics mùa đông:',data3['Medal'])\n",
        "print('Số HC Bạc ÚC nhận giành được Olympics mùa đông:',data4['Medal'])\n",
        "print('Số HC Vàng ÚC nhận giành được Olympics mùa đông:',data5['Medal'])\n",
        "print('\\nSkating có:')\n",
        "print(dem11['Medal'],'Huy Chương Đồng')\n",
        "print(dem12['Medal'],'Huy Chương Bạc')\n",
        "print(dem13['Medal'],'Huy Chương Vàng')\n",
        "print('\\nSkiing có:')\n",
        "print(dem21['Medal'],'Huy Chương Đồng')\n",
        "print(dem22['Medal'],'Huy Chương Bạc')\n",
        "print(dem23['Medal'],'Huy Chương Vàng')\n",
        "\n",
        "\n",
        "\n",
        "\n",
        "\n",
        "\n",
        "\n"
      ],
      "metadata": {
        "id": "dlMp1d-TQp_w",
        "colab": {
          "base_uri": "https://localhost:8080/"
        },
        "outputId": "f700d32e-791d-4f91-ae32-8f9cd432bd07"
      },
      "execution_count": null,
      "outputs": [
        {
          "output_type": "stream",
          "name": "stdout",
          "text": [
            "\n",
            "Thống kê nước Úc trong các kỳ Olympic mùa Đông \n",
            "Các năm tham dự : [1994 1998 2002 2006]\n",
            "Các bộ môn tham gia: ['Skating' 'Skiing']\n",
            "Số HC Đồng ÚC nhận giành được Olympics mùa đông: 3\n",
            "Số HC Bạc ÚC nhận giành được Olympics mùa đông: 0\n",
            "Số HC Vàng ÚC nhận giành được Olympics mùa đông: 3\n",
            "\n",
            "Skating có:\n",
            "1 Huy Chương Đồng\n",
            "0 Huy Chương Bạc\n",
            "1 Huy Chương Vàng\n",
            "\n",
            "Skiing có:\n",
            "2 Huy Chương Đồng\n",
            "0 Huy Chương Bạc\n",
            "2 Huy Chương Vàng\n"
          ]
        }
      ]
    }
  ]
}